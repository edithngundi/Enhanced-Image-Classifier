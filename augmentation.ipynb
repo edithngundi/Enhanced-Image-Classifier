{
 "cells": [
  {
   "cell_type": "markdown",
   "metadata": {},
   "source": [
    "### Data Augmentation"
   ]
  },
  {
   "cell_type": "code",
   "execution_count": 1,
   "metadata": {},
   "outputs": [
    {
     "name": "stdout",
     "output_type": "stream",
     "text": [
      "Initialised with 130 image(s) found.\n",
      "Output directory set to /Users/edithngundi/Downloads/Edith/output."
     ]
    },
    {
     "name": "stderr",
     "output_type": "stream",
     "text": [
      "Processing <PIL.Image.Image image mode=RGB size=313x267 at 0x10CB92D60>: 100%|██████████| 2370/2370 [00:56<00:00, 41.59 Samples/s]                    \n"
     ]
    }
   ],
   "source": [
    "# Edith's 130 original images\n",
    "directory0 = \"/Users/edithngundi/Downloads/Edith\"\n",
    "\n",
    "# Edith's augmented images (2370 images)\n",
    "import Augmentor\n",
    "p = Augmentor.Pipeline(directory0)\n",
    "p.flip_left_right(0.5)\n",
    "p.rotate(0.3, 10, 10)\n",
    "p.skew(0.4, 0.5)\n",
    "p.zoom(probability = 0.2, min_factor = 1.1, max_factor = 1.5)\n",
    "p.sample(2370)"
   ]
  },
  {
   "cell_type": "code",
   "execution_count": 2,
   "metadata": {},
   "outputs": [
    {
     "name": "stdout",
     "output_type": "stream",
     "text": [
      "Initialised with 129 image(s) found.\n",
      "Output directory set to /Users/edithngundi/Downloads/Noni/output."
     ]
    },
    {
     "name": "stderr",
     "output_type": "stream",
     "text": [
      "Processing <PIL.Image.Image image mode=RGB size=303x404 at 0x10C9ACAF0>: 100%|██████████| 2371/2371 [00:07<00:00, 337.72 Samples/s]                   \n"
     ]
    }
   ],
   "source": [
    "# Noni's 129 original images\n",
    "directory1 = \"/Users/edithngundi/Downloads/Noni\"\n",
    "\n",
    "# Noni's augmented images (2371 images)\n",
    "import Augmentor\n",
    "p = Augmentor.Pipeline(directory1)\n",
    "p.flip_left_right(0.5)\n",
    "p.rotate(0.3, 10, 10)\n",
    "p.skew(0.4, 0.5)\n",
    "p.zoom(probability = 0.2, min_factor = 1.1, max_factor = 1.5)\n",
    "p.sample(2371)"
   ]
  },
  {
   "cell_type": "code",
   "execution_count": 3,
   "metadata": {},
   "outputs": [
    {
     "name": "stdout",
     "output_type": "stream",
     "text": [
      "Initialised with 125 image(s) found.\n",
      "Output directory set to /Users/edithngundi/Downloads/Aroma/output."
     ]
    },
    {
     "name": "stderr",
     "output_type": "stream",
     "text": [
      "Processing <PIL.Image.Image image mode=RGB size=78x112 at 0x10CB42D60>: 100%|██████████| 2375/2375 [00:50<00:00, 47.42 Samples/s]                     \n"
     ]
    }
   ],
   "source": [
    "# Aroma's 125 original images\n",
    "directory2 = \"/Users/edithngundi/Downloads/Aroma\"\n",
    "\n",
    "# Aroma's augmented images (2375 images)\n",
    "import Augmentor\n",
    "p = Augmentor.Pipeline(directory2)\n",
    "p.flip_left_right(0.5)\n",
    "p.rotate(0.3, 10, 10)\n",
    "p.skew(0.4, 0.5)\n",
    "p.zoom(probability = 0.2, min_factor = 1.1, max_factor = 1.5)\n",
    "p.sample(2375)"
   ]
  },
  {
   "cell_type": "code",
   "execution_count": 4,
   "metadata": {},
   "outputs": [
    {
     "name": "stdout",
     "output_type": "stream",
     "text": [
      "Initialised with 146 image(s) found.\n",
      "Output directory set to /Users/edithngundi/Downloads/Macbeth/output."
     ]
    },
    {
     "name": "stderr",
     "output_type": "stream",
     "text": [
      "Processing <PIL.Image.Image image mode=RGB size=213x267 at 0x10CA7BD90>: 100%|██████████| 2354/2354 [00:25<00:00, 93.52 Samples/s]                     \n"
     ]
    }
   ],
   "source": [
    "# Macbeth's 146 original images\n",
    "directory3 = \"/Users/edithngundi/Downloads/Macbeth\"\n",
    "\n",
    "# Macbeth's augmented images (2354 images)\n",
    "import Augmentor\n",
    "p = Augmentor.Pipeline(directory3)\n",
    "p.flip_left_right(0.5)\n",
    "p.rotate(0.3, 10, 10)\n",
    "p.skew(0.4, 0.5)\n",
    "p.zoom(probability = 0.2, min_factor = 1.1, max_factor = 1.5)\n",
    "p.sample(2354)"
   ]
  },
  {
   "cell_type": "code",
   "execution_count": 5,
   "metadata": {},
   "outputs": [],
   "source": [
    "import os\n",
    "\n",
    "def rename_files(start_value,directory_path):\n",
    "    \"\"\"\n",
    "    Rename files in the specified directory to a sequential numbering.\n",
    "\n",
    "    Parameters:\n",
    "    - directory_path: The path to the directory containing the files.\n",
    "\n",
    "    Returns:\n",
    "    - None\n",
    "    \"\"\"\n",
    "    # Get the list of files in the directory\n",
    "    files = os.listdir(directory_path)\n",
    "\n",
    "    # Sort the files to ensure consistent numbering\n",
    "    files.sort()\n",
    "\n",
    "    # Iterate over each file in the directory\n",
    "    for index, file_name in enumerate(files, start=start_value):\n",
    "        # Construct the new file name\n",
    "        new_name = f\"{index:04d}.jpg\"  # Use '04d' to pad the number with zeros (e.g., 0001.jpg)\n",
    "\n",
    "        # Build the full path for the old and new names\n",
    "        old_path = os.path.join(directory_path, file_name)\n",
    "        new_path = os.path.join(directory_path, new_name)\n",
    "\n",
    "        # Rename the file\n",
    "        os.rename(old_path, new_path)"
   ]
  },
  {
   "cell_type": "code",
   "execution_count": 6,
   "metadata": {},
   "outputs": [],
   "source": [
    "# For Edith's images\n",
    "directory_path = \"/Users/edithngundi/Downloads/EdithImages\"\n",
    "start_value = 1\n",
    "rename_files(start_value, directory_path)"
   ]
  },
  {
   "cell_type": "code",
   "execution_count": 7,
   "metadata": {},
   "outputs": [],
   "source": [
    "# For Noni's images\n",
    "directory_path = \"/Users/edithngundi/Downloads/NoniImages\"\n",
    "start_value = 2501\n",
    "rename_files(start_value, directory_path)"
   ]
  },
  {
   "cell_type": "code",
   "execution_count": 8,
   "metadata": {},
   "outputs": [],
   "source": [
    "# For Aroma's images\n",
    "directory_path = \"/Users/edithngundi/Downloads/AromaImages\"\n",
    "start_value = 5001\n",
    "rename_files(start_value, directory_path)"
   ]
  },
  {
   "cell_type": "code",
   "execution_count": 9,
   "metadata": {},
   "outputs": [],
   "source": [
    "# For Macbeth's images\n",
    "directory_path = \"/Users/edithngundi/Downloads/MacbethImages\"\n",
    "start_value = 7501\n",
    "rename_files(start_value, directory_path)"
   ]
  }
 ],
 "metadata": {
  "kernelspec": {
   "display_name": "Python 3",
   "language": "python",
   "name": "python3"
  },
  "language_info": {
   "codemirror_mode": {
    "name": "ipython",
    "version": 3
   },
   "file_extension": ".py",
   "mimetype": "text/x-python",
   "name": "python",
   "nbconvert_exporter": "python",
   "pygments_lexer": "ipython3",
   "version": "3.9.6"
  }
 },
 "nbformat": 4,
 "nbformat_minor": 2
}
